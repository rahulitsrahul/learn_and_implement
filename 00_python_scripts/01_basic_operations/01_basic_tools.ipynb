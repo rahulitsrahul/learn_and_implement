{
 "cells": [
  {
   "cell_type": "markdown",
   "metadata": {},
   "source": [
    "# List []\n",
    "# Set {}\n",
    "# Tuple ()"
   ]
  },
  {
   "cell_type": "code",
   "execution_count": 30,
   "metadata": {},
   "outputs": [
    {
     "name": "stdout",
     "output_type": "stream",
     "text": [
      "['Mario', 'root', 'jos', 'rah', 'pant', 'sam']\n",
      "3\n",
      "['Mario', 'root', 'jos', 'vir', 'rah', 'pant', 'sam']\n",
      "sam\n",
      "vir\n",
      "['Mario', 'root', 'jos', 'rah', 'pant']\n",
      "['pant', 'rah', 'jos', 'root', 'Mario']\n"
     ]
    }
   ],
   "source": [
    "people: list[str] = ['Mario', 'root', 'jos']\n",
    "people_new: list[str] = ['rah', 'pant', 'sam']\n",
    "\n",
    "# Join two lists\n",
    "people.extend(people_new)\n",
    "print(people)\n",
    "\n",
    "# Get index\n",
    "print(people.index('rah'))\n",
    "\n",
    "# Insert item into list at an index\n",
    "people.insert(3, 'vir')\n",
    "print(people)\n",
    "\n",
    "# Pop an item from the right\n",
    "print(people.pop())\n",
    "# Pop an item with an index\n",
    "print(people.pop(3))\n",
    "print(people)\n",
    "\n",
    "# Reverse a list\n",
    "print(people[::-1])\n"
   ]
  },
  {
   "cell_type": "markdown",
   "metadata": {},
   "source": [
    "# Dictionary"
   ]
  },
  {
   "cell_type": "code",
   "execution_count": 19,
   "metadata": {},
   "outputs": [
    {
     "name": "stdout",
     "output_type": "stream",
     "text": [
      "{1: 'aaa', 2: 'bbb', 3: 'ccc', 4: 'ddd'}\n",
      "ccc\n",
      "ccc\n",
      "1\n",
      "2\n",
      "4\n",
      "aaa\n",
      "bbb\n",
      "ddd\n",
      "1 aaa\n",
      "2 bbb\n",
      "4 ddd\n",
      "None\n",
      "bbb\n",
      "{'mario': None, 'james': None, 'peter': None}\n",
      "{'mario': None, 'james': None, 'peter': 'BLR', 'benzen': 'NY'}\n"
     ]
    }
   ],
   "source": [
    "users: dict = {1: 'aaa', 2: 'bbb', 3: 'ccc', 4: 'ddd'}\n",
    "print(users)\n",
    "print(users[3])\n",
    "\n",
    "# Pop an item using key\n",
    "popped = users.pop(3)\n",
    "print(popped)\n",
    "\n",
    "for k in users.keys():\n",
    "    print(k)\n",
    "\n",
    "for v in users.values():\n",
    "    print(v)\n",
    "\n",
    "for k, v in users.items(): # Returns tuple of the Key and value pairs\n",
    "    print(k, v)\n",
    "\n",
    "users.popitem() # Removes the last entry of the dict\n",
    "\n",
    "# Get method with key\n",
    "print(users.get(4)) # returns None as 4 is popped\n",
    "print(users.get(2))\n",
    "\n",
    "# Create dictionary from list [values will be None]\n",
    "users_list = ['mario', 'james', 'peter']\n",
    "usrs = dict.fromkeys(users_list)\n",
    "print(usrs)\n",
    "\n",
    "# Join two dictionaries with update method\n",
    "new_users = {'peter': 'BLR', 'benzen': 'NY'}\n",
    "usrs.update(new_users)\n",
    "print(usrs)\n"
   ]
  }
 ],
 "metadata": {
  "kernelspec": {
   "display_name": "vision",
   "language": "python",
   "name": "python3"
  },
  "language_info": {
   "codemirror_mode": {
    "name": "ipython",
    "version": 3
   },
   "file_extension": ".py",
   "mimetype": "text/x-python",
   "name": "python",
   "nbconvert_exporter": "python",
   "pygments_lexer": "ipython3",
   "version": "3.12.0"
  }
 },
 "nbformat": 4,
 "nbformat_minor": 2
}
